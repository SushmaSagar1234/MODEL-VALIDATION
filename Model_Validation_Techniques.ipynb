{
  "nbformat": 4,
  "nbformat_minor": 0,
  "metadata": {
    "colab": {
      "provenance": []
    },
    "kernelspec": {
      "name": "python3",
      "display_name": "Python 3"
    }
  },
  "cells": [
    {
      "cell_type": "markdown",
      "metadata": {
        "id": "taLo6Q7NxKRE"
      },
      "source": [
        "## Model Validation Techniques and Hyper Parameter Tuning"
      ]
    },
    {
      "cell_type": "markdown",
      "metadata": {
        "id": "xQ1Zs9MKxXJ1"
      },
      "source": [
        "## Importing the libraries"
      ]
    },
    {
      "cell_type": "code",
      "metadata": {
        "id": "D3x14CwtxcV5"
      },
      "source": [
        "import numpy as np\n",
        "import matplotlib.pyplot as plt\n",
        "import pandas as pd"
      ],
      "execution_count": null,
      "outputs": []
    },
    {
      "cell_type": "markdown",
      "metadata": {
        "id": "1L1wq9evxg83"
      },
      "source": [
        "## Importing the dataset"
      ]
    },
    {
      "cell_type": "code",
      "metadata": {
        "id": "TMeZ6FKbxkU6"
      },
      "source": [
        "dataset = pd.read_csv('Social_Network_Ads.csv')\n",
        "X = dataset.iloc[:, :-1].values\n",
        "y = dataset.iloc[:, -1].values"
      ],
      "execution_count": null,
      "outputs": []
    },
    {
      "cell_type": "markdown",
      "metadata": {
        "id": "i3FBTRwzxzl7"
      },
      "source": [
        "## Splitting the dataset into the Training set and Test set"
      ]
    },
    {
      "cell_type": "code",
      "metadata": {
        "id": "V5TZ-0qSx5mX"
      },
      "source": [
        "from sklearn.model_selection import train_test_split\n",
        "X_train, X_test, y_train, y_test = train_test_split(X, y, test_size = 0.25, random_state = 0)"
      ],
      "execution_count": null,
      "outputs": []
    },
    {
      "cell_type": "markdown",
      "metadata": {
        "id": "WPt8zMSIxrJ7"
      },
      "source": [
        "## Feature Scaling"
      ]
    },
    {
      "cell_type": "code",
      "metadata": {
        "id": "c60y-wPDxvY-"
      },
      "source": [
        "from sklearn.preprocessing import StandardScaler\n",
        "sc = StandardScaler()\n",
        "X_train = sc.fit_transform(X_train)\n",
        "X_test = sc.transform(X_test)"
      ],
      "execution_count": null,
      "outputs": []
    },
    {
      "cell_type": "markdown",
      "metadata": {
        "id": "29ry3GSGx9P_"
      },
      "source": [
        "## Training the SVM model on the Training set"
      ]
    },
    {
      "cell_type": "code",
      "metadata": {
        "id": "BUM0MSyGyCjF",
        "outputId": "e0619d3e-c9fb-4a64-c539-ab5d007b88eb",
        "colab": {
          "base_uri": "https://localhost:8080/",
          "height": 74
        }
      },
      "source": [
        "from sklearn.svm import SVC\n",
        "classifier = SVC(kernel = 'linear', random_state = 0)\n",
        "classifier.fit(X_train, y_train)"
      ],
      "execution_count": null,
      "outputs": [
        {
          "output_type": "execute_result",
          "data": {
            "text/plain": [
              "SVC(kernel='linear', random_state=0)"
            ],
            "text/html": [
              "<style>#sk-container-id-1 {color: black;background-color: white;}#sk-container-id-1 pre{padding: 0;}#sk-container-id-1 div.sk-toggleable {background-color: white;}#sk-container-id-1 label.sk-toggleable__label {cursor: pointer;display: block;width: 100%;margin-bottom: 0;padding: 0.3em;box-sizing: border-box;text-align: center;}#sk-container-id-1 label.sk-toggleable__label-arrow:before {content: \"▸\";float: left;margin-right: 0.25em;color: #696969;}#sk-container-id-1 label.sk-toggleable__label-arrow:hover:before {color: black;}#sk-container-id-1 div.sk-estimator:hover label.sk-toggleable__label-arrow:before {color: black;}#sk-container-id-1 div.sk-toggleable__content {max-height: 0;max-width: 0;overflow: hidden;text-align: left;background-color: #f0f8ff;}#sk-container-id-1 div.sk-toggleable__content pre {margin: 0.2em;color: black;border-radius: 0.25em;background-color: #f0f8ff;}#sk-container-id-1 input.sk-toggleable__control:checked~div.sk-toggleable__content {max-height: 200px;max-width: 100%;overflow: auto;}#sk-container-id-1 input.sk-toggleable__control:checked~label.sk-toggleable__label-arrow:before {content: \"▾\";}#sk-container-id-1 div.sk-estimator input.sk-toggleable__control:checked~label.sk-toggleable__label {background-color: #d4ebff;}#sk-container-id-1 div.sk-label input.sk-toggleable__control:checked~label.sk-toggleable__label {background-color: #d4ebff;}#sk-container-id-1 input.sk-hidden--visually {border: 0;clip: rect(1px 1px 1px 1px);clip: rect(1px, 1px, 1px, 1px);height: 1px;margin: -1px;overflow: hidden;padding: 0;position: absolute;width: 1px;}#sk-container-id-1 div.sk-estimator {font-family: monospace;background-color: #f0f8ff;border: 1px dotted black;border-radius: 0.25em;box-sizing: border-box;margin-bottom: 0.5em;}#sk-container-id-1 div.sk-estimator:hover {background-color: #d4ebff;}#sk-container-id-1 div.sk-parallel-item::after {content: \"\";width: 100%;border-bottom: 1px solid gray;flex-grow: 1;}#sk-container-id-1 div.sk-label:hover label.sk-toggleable__label {background-color: #d4ebff;}#sk-container-id-1 div.sk-serial::before {content: \"\";position: absolute;border-left: 1px solid gray;box-sizing: border-box;top: 0;bottom: 0;left: 50%;z-index: 0;}#sk-container-id-1 div.sk-serial {display: flex;flex-direction: column;align-items: center;background-color: white;padding-right: 0.2em;padding-left: 0.2em;position: relative;}#sk-container-id-1 div.sk-item {position: relative;z-index: 1;}#sk-container-id-1 div.sk-parallel {display: flex;align-items: stretch;justify-content: center;background-color: white;position: relative;}#sk-container-id-1 div.sk-item::before, #sk-container-id-1 div.sk-parallel-item::before {content: \"\";position: absolute;border-left: 1px solid gray;box-sizing: border-box;top: 0;bottom: 0;left: 50%;z-index: -1;}#sk-container-id-1 div.sk-parallel-item {display: flex;flex-direction: column;z-index: 1;position: relative;background-color: white;}#sk-container-id-1 div.sk-parallel-item:first-child::after {align-self: flex-end;width: 50%;}#sk-container-id-1 div.sk-parallel-item:last-child::after {align-self: flex-start;width: 50%;}#sk-container-id-1 div.sk-parallel-item:only-child::after {width: 0;}#sk-container-id-1 div.sk-dashed-wrapped {border: 1px dashed gray;margin: 0 0.4em 0.5em 0.4em;box-sizing: border-box;padding-bottom: 0.4em;background-color: white;}#sk-container-id-1 div.sk-label label {font-family: monospace;font-weight: bold;display: inline-block;line-height: 1.2em;}#sk-container-id-1 div.sk-label-container {text-align: center;}#sk-container-id-1 div.sk-container {/* jupyter's `normalize.less` sets `[hidden] { display: none; }` but bootstrap.min.css set `[hidden] { display: none !important; }` so we also need the `!important` here to be able to override the default hidden behavior on the sphinx rendered scikit-learn.org. See: https://github.com/scikit-learn/scikit-learn/issues/21755 */display: inline-block !important;position: relative;}#sk-container-id-1 div.sk-text-repr-fallback {display: none;}</style><div id=\"sk-container-id-1\" class=\"sk-top-container\"><div class=\"sk-text-repr-fallback\"><pre>SVC(kernel=&#x27;linear&#x27;, random_state=0)</pre><b>In a Jupyter environment, please rerun this cell to show the HTML representation or trust the notebook. <br />On GitHub, the HTML representation is unable to render, please try loading this page with nbviewer.org.</b></div><div class=\"sk-container\" hidden><div class=\"sk-item\"><div class=\"sk-estimator sk-toggleable\"><input class=\"sk-toggleable__control sk-hidden--visually\" id=\"sk-estimator-id-1\" type=\"checkbox\" checked><label for=\"sk-estimator-id-1\" class=\"sk-toggleable__label sk-toggleable__label-arrow\">SVC</label><div class=\"sk-toggleable__content\"><pre>SVC(kernel=&#x27;linear&#x27;, random_state=0)</pre></div></div></div></div></div>"
            ]
          },
          "metadata": {},
          "execution_count": 5
        }
      ]
    },
    {
      "cell_type": "markdown",
      "metadata": {
        "id": "fBbur5RQyTcL"
      },
      "source": [
        "## Making the Confusion Matrix"
      ]
    },
    {
      "cell_type": "code",
      "metadata": {
        "id": "_1llVHNPyWkZ",
        "outputId": "e7ceaa96-00c8-412a-adab-e3f1be810e89",
        "colab": {
          "base_uri": "https://localhost:8080/"
        }
      },
      "source": [
        "from sklearn.metrics import confusion_matrix, accuracy_score\n",
        "y_pred = classifier.predict(X_test)\n",
        "cm = confusion_matrix(y_test, y_pred)\n",
        "print(cm)\n",
        "accuracy_score(y_test, y_pred)"
      ],
      "execution_count": null,
      "outputs": [
        {
          "output_type": "stream",
          "name": "stdout",
          "text": [
            "[[66  2]\n",
            " [ 8 24]]\n"
          ]
        },
        {
          "output_type": "execute_result",
          "data": {
            "text/plain": [
              "0.9"
            ]
          },
          "metadata": {},
          "execution_count": 6
        }
      ]
    },
    {
      "cell_type": "markdown",
      "metadata": {
        "id": "U-eGh0nuyabx"
      },
      "source": [
        "## Applying k-Fold Cross Validation"
      ]
    },
    {
      "cell_type": "code",
      "source": [
        "from sklearn.model_selection import KFold\n",
        "num_folds = 10\n",
        "kfold = KFold(n_splits=num_folds)"
      ],
      "metadata": {
        "id": "ZZiBCRidK-IO"
      },
      "execution_count": null,
      "outputs": []
    },
    {
      "cell_type": "code",
      "metadata": {
        "id": "N5puHSW9ydyi",
        "outputId": "bc162bba-740c-40be-b16f-5206d70702c4",
        "colab": {
          "base_uri": "https://localhost:8080/"
        }
      },
      "source": [
        "from sklearn.model_selection import cross_val_score\n",
        "accuracies = cross_val_score(estimator = classifier, X = X_test, y = y_test, cv = kfold)\n",
        "print(\"Accuracy: {:.2f} %\".format(accuracies.mean()*100))\n",
        "print(\"Standard Deviation: {:.2f} %\".format(accuracies.std()*100))"
      ],
      "execution_count": null,
      "outputs": [
        {
          "output_type": "stream",
          "name": "stdout",
          "text": [
            "Accuracy: 89.00 %\n",
            "Standard Deviation: 8.31 %\n"
          ]
        }
      ]
    },
    {
      "cell_type": "code",
      "source": [
        "for i in range(len(accuracies)):\n",
        "  print(\"Accuracy: {:.2f} %\".format(accuracies[i]*100))"
      ],
      "metadata": {
        "colab": {
          "base_uri": "https://localhost:8080/"
        },
        "id": "EuBpXPXoMAQ7",
        "outputId": "553017bf-4b81-4bcd-828e-32d10b729007"
      },
      "execution_count": null,
      "outputs": [
        {
          "output_type": "stream",
          "name": "stdout",
          "text": [
            "Accuracy: 90.00 %\n",
            "Accuracy: 100.00 %\n",
            "Accuracy: 100.00 %\n",
            "Accuracy: 80.00 %\n",
            "Accuracy: 100.00 %\n",
            "Accuracy: 80.00 %\n",
            "Accuracy: 90.00 %\n",
            "Accuracy: 90.00 %\n",
            "Accuracy: 80.00 %\n",
            "Accuracy: 80.00 %\n"
          ]
        }
      ]
    },
    {
      "cell_type": "markdown",
      "source": [
        "## Evaluate using Leave One Out Cross Validation"
      ],
      "metadata": {
        "id": "Ns-HKiH1OPVe"
      }
    },
    {
      "cell_type": "code",
      "source": [
        "from sklearn.model_selection import LeaveOneOut\n",
        "loocv = LeaveOneOut()\n",
        "accuracies = cross_val_score(classifier, X = X_test, y = y_test, cv=loocv)\n",
        "print(\"Accuracy: {:.2f} %\".format(accuracies.mean()*100))\n",
        "print(\"Standard Deviation: {:.2f} %\".format(accuracies.std()*100))"
      ],
      "metadata": {
        "colab": {
          "base_uri": "https://localhost:8080/"
        },
        "id": "BwCY0Xr7OVCx",
        "outputId": "2d9910cf-ca66-476f-f2f3-3b3146db0963"
      },
      "execution_count": null,
      "outputs": [
        {
          "output_type": "stream",
          "name": "stdout",
          "text": [
            "Accuracy: 86.00 %\n",
            "Standard Deviation: 34.70 %\n"
          ]
        }
      ]
    },
    {
      "cell_type": "code",
      "source": [
        "for i in range(len(accuracies)):\n",
        "  print(\"Accuracy: {:.2f} %\".format(accuracies[i]*100))"
      ],
      "metadata": {
        "colab": {
          "base_uri": "https://localhost:8080/"
        },
        "id": "JRsE6MT3OLbb",
        "outputId": "16477979-0b4f-43f1-d15c-26f32e85c6df"
      },
      "execution_count": null,
      "outputs": [
        {
          "output_type": "stream",
          "name": "stdout",
          "text": [
            "Accuracy: 100.00 %\n",
            "Accuracy: 100.00 %\n",
            "Accuracy: 100.00 %\n",
            "Accuracy: 100.00 %\n",
            "Accuracy: 100.00 %\n",
            "Accuracy: 100.00 %\n",
            "Accuracy: 100.00 %\n",
            "Accuracy: 100.00 %\n",
            "Accuracy: 100.00 %\n",
            "Accuracy: 0.00 %\n",
            "Accuracy: 100.00 %\n",
            "Accuracy: 100.00 %\n",
            "Accuracy: 100.00 %\n",
            "Accuracy: 100.00 %\n",
            "Accuracy: 100.00 %\n",
            "Accuracy: 100.00 %\n",
            "Accuracy: 100.00 %\n",
            "Accuracy: 100.00 %\n",
            "Accuracy: 100.00 %\n",
            "Accuracy: 100.00 %\n",
            "Accuracy: 100.00 %\n",
            "Accuracy: 100.00 %\n",
            "Accuracy: 100.00 %\n",
            "Accuracy: 100.00 %\n",
            "Accuracy: 100.00 %\n",
            "Accuracy: 100.00 %\n",
            "Accuracy: 100.00 %\n",
            "Accuracy: 100.00 %\n",
            "Accuracy: 100.00 %\n",
            "Accuracy: 100.00 %\n",
            "Accuracy: 100.00 %\n",
            "Accuracy: 0.00 %\n",
            "Accuracy: 100.00 %\n",
            "Accuracy: 100.00 %\n",
            "Accuracy: 100.00 %\n",
            "Accuracy: 100.00 %\n",
            "Accuracy: 100.00 %\n",
            "Accuracy: 100.00 %\n",
            "Accuracy: 100.00 %\n",
            "Accuracy: 0.00 %\n",
            "Accuracy: 100.00 %\n",
            "Accuracy: 100.00 %\n",
            "Accuracy: 100.00 %\n",
            "Accuracy: 100.00 %\n",
            "Accuracy: 100.00 %\n",
            "Accuracy: 100.00 %\n",
            "Accuracy: 100.00 %\n",
            "Accuracy: 100.00 %\n",
            "Accuracy: 100.00 %\n",
            "Accuracy: 100.00 %\n",
            "Accuracy: 100.00 %\n",
            "Accuracy: 100.00 %\n",
            "Accuracy: 100.00 %\n",
            "Accuracy: 100.00 %\n",
            "Accuracy: 100.00 %\n",
            "Accuracy: 0.00 %\n",
            "Accuracy: 100.00 %\n",
            "Accuracy: 100.00 %\n",
            "Accuracy: 0.00 %\n",
            "Accuracy: 100.00 %\n",
            "Accuracy: 100.00 %\n",
            "Accuracy: 100.00 %\n",
            "Accuracy: 100.00 %\n",
            "Accuracy: 0.00 %\n",
            "Accuracy: 100.00 %\n",
            "Accuracy: 100.00 %\n",
            "Accuracy: 100.00 %\n",
            "Accuracy: 100.00 %\n",
            "Accuracy: 100.00 %\n",
            "Accuracy: 100.00 %\n",
            "Accuracy: 0.00 %\n",
            "Accuracy: 100.00 %\n",
            "Accuracy: 100.00 %\n",
            "Accuracy: 0.00 %\n",
            "Accuracy: 100.00 %\n",
            "Accuracy: 100.00 %\n",
            "Accuracy: 0.00 %\n",
            "Accuracy: 100.00 %\n",
            "Accuracy: 100.00 %\n",
            "Accuracy: 100.00 %\n",
            "Accuracy: 100.00 %\n",
            "Accuracy: 0.00 %\n",
            "Accuracy: 100.00 %\n",
            "Accuracy: 100.00 %\n",
            "Accuracy: 100.00 %\n",
            "Accuracy: 0.00 %\n",
            "Accuracy: 100.00 %\n",
            "Accuracy: 100.00 %\n",
            "Accuracy: 0.00 %\n",
            "Accuracy: 100.00 %\n",
            "Accuracy: 100.00 %\n",
            "Accuracy: 100.00 %\n",
            "Accuracy: 100.00 %\n",
            "Accuracy: 100.00 %\n",
            "Accuracy: 100.00 %\n",
            "Accuracy: 0.00 %\n",
            "Accuracy: 100.00 %\n",
            "Accuracy: 0.00 %\n",
            "Accuracy: 100.00 %\n",
            "Accuracy: 100.00 %\n"
          ]
        }
      ]
    },
    {
      "cell_type": "code",
      "source": [
        "from sklearn.model_selection import GridSearchCV\n",
        "parameters = [{'C': [0.25, 0.5, 0.75, 1], 'kernel': ['linear']},\n",
        "              {'C': [0.25, 0.5, 0.75, 1], 'kernel': ['rbf'], 'gamma': [0.1, 0.2, 0.3, 0.4, 0.5, 0.6, 0.7, 0.8, 0.9]}]\n",
        "grid_search = GridSearchCV(estimator = classifier,\n",
        "                           param_grid = parameters,\n",
        "                           scoring = 'accuracy',\n",
        "                           cv = 10,\n",
        "                           n_jobs = -1)"
      ],
      "metadata": {
        "id": "bhYnxVWZRxwQ"
      },
      "execution_count": null,
      "outputs": []
    },
    {
      "cell_type": "code",
      "source": [
        "grid_search.fit(X_test, y_test)\n",
        "best_accuracy = grid_search.best_score_\n",
        "best_parameters = grid_search.best_params_\n",
        "print(\"Best Accuracy: {:.2f} %\".format(best_accuracy*100))\n",
        "print(\"Best Parameters:\", best_parameters)"
      ],
      "metadata": {
        "colab": {
          "base_uri": "https://localhost:8080/"
        },
        "id": "2a4wRmmTf4I3",
        "outputId": "a6f1d693-bc67-4588-e2e5-7739afdcc6c3"
      },
      "execution_count": null,
      "outputs": [
        {
          "output_type": "stream",
          "name": "stdout",
          "text": [
            "Best Accuracy: 92.00 %\n",
            "Best Parameters: {'C': 0.25, 'gamma': 0.7, 'kernel': 'rbf'}\n"
          ]
        }
      ]
    },
    {
      "cell_type": "code",
      "source": [],
      "metadata": {
        "id": "NAkPT8138zb-"
      },
      "execution_count": null,
      "outputs": []
    }
  ]
}